{
  "nbformat": 4,
  "nbformat_minor": 0,
  "metadata": {
    "colab": {
      "provenance": [],
      "include_colab_link": true
    },
    "kernelspec": {
      "name": "python3",
      "display_name": "Python 3"
    },
    "language_info": {
      "name": "python"
    }
  },
  "cells": [
    {
      "cell_type": "markdown",
      "metadata": {
        "id": "view-in-github",
        "colab_type": "text"
      },
      "source": [
        "<a href=\"https://colab.research.google.com/github/AndresCMontejo/Proyecto_Data_Scientist/blob/main/AluraStoreLatam.ipynb\" target=\"_parent\"><img src=\"https://colab.research.google.com/assets/colab-badge.svg\" alt=\"Open In Colab\"/></a>"
      ]
    },
    {
      "cell_type": "markdown",
      "source": [
        "### Importación de datos\n",
        "\n"
      ],
      "metadata": {
        "id": "RhEdWd9YUR6H"
      }
    },
    {
      "cell_type": "code",
      "execution_count": null,
      "metadata": {
        "colab": {
          "base_uri": "https://localhost:8080/",
          "height": 293
        },
        "id": "T3EvaeQ_INIL",
        "outputId": "4f374fdc-7c7c-46bf-a19f-09527810d37e"
      },
      "outputs": [
        {
          "output_type": "execute_result",
          "data": {
            "text/plain": [
              "            Producto Categoría del Producto    Precio  Costo de envío  \\\n",
              "0  Asistente virtual           Electrónicos  164300.0          6900.0   \n",
              "1    Mesa de comedor                Muebles  192300.0          8400.0   \n",
              "2      Juego de mesa               Juguetes  209600.0         15900.0   \n",
              "3         Microondas      Electrodomésticos  757500.0         41000.0   \n",
              "4   Silla de oficina                Muebles  335200.0         20200.0   \n",
              "\n",
              "  Fecha de Compra         Vendedor Lugar de Compra  Calificación  \\\n",
              "0      16/01/2021      Pedro Gomez          Bogotá             4   \n",
              "1      18/05/2022  Beatriz Morales        Medellín             1   \n",
              "2      15/03/2021   Juan Fernandez       Cartagena             1   \n",
              "3      03/05/2022   Juan Fernandez            Cali             4   \n",
              "4      07/11/2020    Maria Alfonso        Medellín             5   \n",
              "\n",
              "       Método de pago  Cantidad de cuotas       lat       lon  \n",
              "0  Tarjeta de crédito                   8   4.60971 -74.08175  \n",
              "1  Tarjeta de crédito                   4   6.25184 -75.56359  \n",
              "2  Tarjeta de crédito                   1  10.39972 -75.51444  \n",
              "3               Nequi                   1   3.43722 -76.52250  \n",
              "4               Nequi                   1   6.25184 -75.56359  "
            ],
            "text/html": [
              "\n",
              "  <div id=\"df-46bf4be4-8906-44df-86d3-a360cb5011d2\" class=\"colab-df-container\">\n",
              "    <div>\n",
              "<style scoped>\n",
              "    .dataframe tbody tr th:only-of-type {\n",
              "        vertical-align: middle;\n",
              "    }\n",
              "\n",
              "    .dataframe tbody tr th {\n",
              "        vertical-align: top;\n",
              "    }\n",
              "\n",
              "    .dataframe thead th {\n",
              "        text-align: right;\n",
              "    }\n",
              "</style>\n",
              "<table border=\"1\" class=\"dataframe\">\n",
              "  <thead>\n",
              "    <tr style=\"text-align: right;\">\n",
              "      <th></th>\n",
              "      <th>Producto</th>\n",
              "      <th>Categoría del Producto</th>\n",
              "      <th>Precio</th>\n",
              "      <th>Costo de envío</th>\n",
              "      <th>Fecha de Compra</th>\n",
              "      <th>Vendedor</th>\n",
              "      <th>Lugar de Compra</th>\n",
              "      <th>Calificación</th>\n",
              "      <th>Método de pago</th>\n",
              "      <th>Cantidad de cuotas</th>\n",
              "      <th>lat</th>\n",
              "      <th>lon</th>\n",
              "    </tr>\n",
              "  </thead>\n",
              "  <tbody>\n",
              "    <tr>\n",
              "      <th>0</th>\n",
              "      <td>Asistente virtual</td>\n",
              "      <td>Electrónicos</td>\n",
              "      <td>164300.0</td>\n",
              "      <td>6900.0</td>\n",
              "      <td>16/01/2021</td>\n",
              "      <td>Pedro Gomez</td>\n",
              "      <td>Bogotá</td>\n",
              "      <td>4</td>\n",
              "      <td>Tarjeta de crédito</td>\n",
              "      <td>8</td>\n",
              "      <td>4.60971</td>\n",
              "      <td>-74.08175</td>\n",
              "    </tr>\n",
              "    <tr>\n",
              "      <th>1</th>\n",
              "      <td>Mesa de comedor</td>\n",
              "      <td>Muebles</td>\n",
              "      <td>192300.0</td>\n",
              "      <td>8400.0</td>\n",
              "      <td>18/05/2022</td>\n",
              "      <td>Beatriz Morales</td>\n",
              "      <td>Medellín</td>\n",
              "      <td>1</td>\n",
              "      <td>Tarjeta de crédito</td>\n",
              "      <td>4</td>\n",
              "      <td>6.25184</td>\n",
              "      <td>-75.56359</td>\n",
              "    </tr>\n",
              "    <tr>\n",
              "      <th>2</th>\n",
              "      <td>Juego de mesa</td>\n",
              "      <td>Juguetes</td>\n",
              "      <td>209600.0</td>\n",
              "      <td>15900.0</td>\n",
              "      <td>15/03/2021</td>\n",
              "      <td>Juan Fernandez</td>\n",
              "      <td>Cartagena</td>\n",
              "      <td>1</td>\n",
              "      <td>Tarjeta de crédito</td>\n",
              "      <td>1</td>\n",
              "      <td>10.39972</td>\n",
              "      <td>-75.51444</td>\n",
              "    </tr>\n",
              "    <tr>\n",
              "      <th>3</th>\n",
              "      <td>Microondas</td>\n",
              "      <td>Electrodomésticos</td>\n",
              "      <td>757500.0</td>\n",
              "      <td>41000.0</td>\n",
              "      <td>03/05/2022</td>\n",
              "      <td>Juan Fernandez</td>\n",
              "      <td>Cali</td>\n",
              "      <td>4</td>\n",
              "      <td>Nequi</td>\n",
              "      <td>1</td>\n",
              "      <td>3.43722</td>\n",
              "      <td>-76.52250</td>\n",
              "    </tr>\n",
              "    <tr>\n",
              "      <th>4</th>\n",
              "      <td>Silla de oficina</td>\n",
              "      <td>Muebles</td>\n",
              "      <td>335200.0</td>\n",
              "      <td>20200.0</td>\n",
              "      <td>07/11/2020</td>\n",
              "      <td>Maria Alfonso</td>\n",
              "      <td>Medellín</td>\n",
              "      <td>5</td>\n",
              "      <td>Nequi</td>\n",
              "      <td>1</td>\n",
              "      <td>6.25184</td>\n",
              "      <td>-75.56359</td>\n",
              "    </tr>\n",
              "  </tbody>\n",
              "</table>\n",
              "</div>\n",
              "    <div class=\"colab-df-buttons\">\n",
              "\n",
              "  <div class=\"colab-df-container\">\n",
              "    <button class=\"colab-df-convert\" onclick=\"convertToInteractive('df-46bf4be4-8906-44df-86d3-a360cb5011d2')\"\n",
              "            title=\"Convert this dataframe to an interactive table.\"\n",
              "            style=\"display:none;\">\n",
              "\n",
              "  <svg xmlns=\"http://www.w3.org/2000/svg\" height=\"24px\" viewBox=\"0 -960 960 960\">\n",
              "    <path d=\"M120-120v-720h720v720H120Zm60-500h600v-160H180v160Zm220 220h160v-160H400v160Zm0 220h160v-160H400v160ZM180-400h160v-160H180v160Zm440 0h160v-160H620v160ZM180-180h160v-160H180v160Zm440 0h160v-160H620v160Z\"/>\n",
              "  </svg>\n",
              "    </button>\n",
              "\n",
              "  <style>\n",
              "    .colab-df-container {\n",
              "      display:flex;\n",
              "      gap: 12px;\n",
              "    }\n",
              "\n",
              "    .colab-df-convert {\n",
              "      background-color: #E8F0FE;\n",
              "      border: none;\n",
              "      border-radius: 50%;\n",
              "      cursor: pointer;\n",
              "      display: none;\n",
              "      fill: #1967D2;\n",
              "      height: 32px;\n",
              "      padding: 0 0 0 0;\n",
              "      width: 32px;\n",
              "    }\n",
              "\n",
              "    .colab-df-convert:hover {\n",
              "      background-color: #E2EBFA;\n",
              "      box-shadow: 0px 1px 2px rgba(60, 64, 67, 0.3), 0px 1px 3px 1px rgba(60, 64, 67, 0.15);\n",
              "      fill: #174EA6;\n",
              "    }\n",
              "\n",
              "    .colab-df-buttons div {\n",
              "      margin-bottom: 4px;\n",
              "    }\n",
              "\n",
              "    [theme=dark] .colab-df-convert {\n",
              "      background-color: #3B4455;\n",
              "      fill: #D2E3FC;\n",
              "    }\n",
              "\n",
              "    [theme=dark] .colab-df-convert:hover {\n",
              "      background-color: #434B5C;\n",
              "      box-shadow: 0px 1px 3px 1px rgba(0, 0, 0, 0.15);\n",
              "      filter: drop-shadow(0px 1px 2px rgba(0, 0, 0, 0.3));\n",
              "      fill: #FFFFFF;\n",
              "    }\n",
              "  </style>\n",
              "\n",
              "    <script>\n",
              "      const buttonEl =\n",
              "        document.querySelector('#df-46bf4be4-8906-44df-86d3-a360cb5011d2 button.colab-df-convert');\n",
              "      buttonEl.style.display =\n",
              "        google.colab.kernel.accessAllowed ? 'block' : 'none';\n",
              "\n",
              "      async function convertToInteractive(key) {\n",
              "        const element = document.querySelector('#df-46bf4be4-8906-44df-86d3-a360cb5011d2');\n",
              "        const dataTable =\n",
              "          await google.colab.kernel.invokeFunction('convertToInteractive',\n",
              "                                                    [key], {});\n",
              "        if (!dataTable) return;\n",
              "\n",
              "        const docLinkHtml = 'Like what you see? Visit the ' +\n",
              "          '<a target=\"_blank\" href=https://colab.research.google.com/notebooks/data_table.ipynb>data table notebook</a>'\n",
              "          + ' to learn more about interactive tables.';\n",
              "        element.innerHTML = '';\n",
              "        dataTable['output_type'] = 'display_data';\n",
              "        await google.colab.output.renderOutput(dataTable, element);\n",
              "        const docLink = document.createElement('div');\n",
              "        docLink.innerHTML = docLinkHtml;\n",
              "        element.appendChild(docLink);\n",
              "      }\n",
              "    </script>\n",
              "  </div>\n",
              "\n",
              "\n",
              "    <div id=\"df-a056d94d-5e1d-48a3-bb5c-f78c36e76622\">\n",
              "      <button class=\"colab-df-quickchart\" onclick=\"quickchart('df-a056d94d-5e1d-48a3-bb5c-f78c36e76622')\"\n",
              "                title=\"Suggest charts\"\n",
              "                style=\"display:none;\">\n",
              "\n",
              "<svg xmlns=\"http://www.w3.org/2000/svg\" height=\"24px\"viewBox=\"0 0 24 24\"\n",
              "     width=\"24px\">\n",
              "    <g>\n",
              "        <path d=\"M19 3H5c-1.1 0-2 .9-2 2v14c0 1.1.9 2 2 2h14c1.1 0 2-.9 2-2V5c0-1.1-.9-2-2-2zM9 17H7v-7h2v7zm4 0h-2V7h2v10zm4 0h-2v-4h2v4z\"/>\n",
              "    </g>\n",
              "</svg>\n",
              "      </button>\n",
              "\n",
              "<style>\n",
              "  .colab-df-quickchart {\n",
              "      --bg-color: #E8F0FE;\n",
              "      --fill-color: #1967D2;\n",
              "      --hover-bg-color: #E2EBFA;\n",
              "      --hover-fill-color: #174EA6;\n",
              "      --disabled-fill-color: #AAA;\n",
              "      --disabled-bg-color: #DDD;\n",
              "  }\n",
              "\n",
              "  [theme=dark] .colab-df-quickchart {\n",
              "      --bg-color: #3B4455;\n",
              "      --fill-color: #D2E3FC;\n",
              "      --hover-bg-color: #434B5C;\n",
              "      --hover-fill-color: #FFFFFF;\n",
              "      --disabled-bg-color: #3B4455;\n",
              "      --disabled-fill-color: #666;\n",
              "  }\n",
              "\n",
              "  .colab-df-quickchart {\n",
              "    background-color: var(--bg-color);\n",
              "    border: none;\n",
              "    border-radius: 50%;\n",
              "    cursor: pointer;\n",
              "    display: none;\n",
              "    fill: var(--fill-color);\n",
              "    height: 32px;\n",
              "    padding: 0;\n",
              "    width: 32px;\n",
              "  }\n",
              "\n",
              "  .colab-df-quickchart:hover {\n",
              "    background-color: var(--hover-bg-color);\n",
              "    box-shadow: 0 1px 2px rgba(60, 64, 67, 0.3), 0 1px 3px 1px rgba(60, 64, 67, 0.15);\n",
              "    fill: var(--button-hover-fill-color);\n",
              "  }\n",
              "\n",
              "  .colab-df-quickchart-complete:disabled,\n",
              "  .colab-df-quickchart-complete:disabled:hover {\n",
              "    background-color: var(--disabled-bg-color);\n",
              "    fill: var(--disabled-fill-color);\n",
              "    box-shadow: none;\n",
              "  }\n",
              "\n",
              "  .colab-df-spinner {\n",
              "    border: 2px solid var(--fill-color);\n",
              "    border-color: transparent;\n",
              "    border-bottom-color: var(--fill-color);\n",
              "    animation:\n",
              "      spin 1s steps(1) infinite;\n",
              "  }\n",
              "\n",
              "  @keyframes spin {\n",
              "    0% {\n",
              "      border-color: transparent;\n",
              "      border-bottom-color: var(--fill-color);\n",
              "      border-left-color: var(--fill-color);\n",
              "    }\n",
              "    20% {\n",
              "      border-color: transparent;\n",
              "      border-left-color: var(--fill-color);\n",
              "      border-top-color: var(--fill-color);\n",
              "    }\n",
              "    30% {\n",
              "      border-color: transparent;\n",
              "      border-left-color: var(--fill-color);\n",
              "      border-top-color: var(--fill-color);\n",
              "      border-right-color: var(--fill-color);\n",
              "    }\n",
              "    40% {\n",
              "      border-color: transparent;\n",
              "      border-right-color: var(--fill-color);\n",
              "      border-top-color: var(--fill-color);\n",
              "    }\n",
              "    60% {\n",
              "      border-color: transparent;\n",
              "      border-right-color: var(--fill-color);\n",
              "    }\n",
              "    80% {\n",
              "      border-color: transparent;\n",
              "      border-right-color: var(--fill-color);\n",
              "      border-bottom-color: var(--fill-color);\n",
              "    }\n",
              "    90% {\n",
              "      border-color: transparent;\n",
              "      border-bottom-color: var(--fill-color);\n",
              "    }\n",
              "  }\n",
              "</style>\n",
              "\n",
              "      <script>\n",
              "        async function quickchart(key) {\n",
              "          const quickchartButtonEl =\n",
              "            document.querySelector('#' + key + ' button');\n",
              "          quickchartButtonEl.disabled = true;  // To prevent multiple clicks.\n",
              "          quickchartButtonEl.classList.add('colab-df-spinner');\n",
              "          try {\n",
              "            const charts = await google.colab.kernel.invokeFunction(\n",
              "                'suggestCharts', [key], {});\n",
              "          } catch (error) {\n",
              "            console.error('Error during call to suggestCharts:', error);\n",
              "          }\n",
              "          quickchartButtonEl.classList.remove('colab-df-spinner');\n",
              "          quickchartButtonEl.classList.add('colab-df-quickchart-complete');\n",
              "        }\n",
              "        (() => {\n",
              "          let quickchartButtonEl =\n",
              "            document.querySelector('#df-a056d94d-5e1d-48a3-bb5c-f78c36e76622 button');\n",
              "          quickchartButtonEl.style.display =\n",
              "            google.colab.kernel.accessAllowed ? 'block' : 'none';\n",
              "        })();\n",
              "      </script>\n",
              "    </div>\n",
              "\n",
              "    </div>\n",
              "  </div>\n"
            ],
            "application/vnd.google.colaboratory.intrinsic+json": {
              "type": "dataframe",
              "variable_name": "tienda",
              "summary": "{\n  \"name\": \"tienda\",\n  \"rows\": 2359,\n  \"fields\": [\n    {\n      \"column\": \"Producto\",\n      \"properties\": {\n        \"dtype\": \"category\",\n        \"num_unique_values\": 51,\n        \"samples\": [\n          \"Guitarra ac\\u00fastica\",\n          \"Bal\\u00f3n de baloncesto\",\n          \"Smartwatch\"\n        ],\n        \"semantic_type\": \"\",\n        \"description\": \"\"\n      }\n    },\n    {\n      \"column\": \"Categor\\u00eda del Producto\",\n      \"properties\": {\n        \"dtype\": \"category\",\n        \"num_unique_values\": 8,\n        \"samples\": [\n          \"Muebles\",\n          \"Deportes y diversi\\u00f3n\",\n          \"Electr\\u00f3nicos\"\n        ],\n        \"semantic_type\": \"\",\n        \"description\": \"\"\n      }\n    },\n    {\n      \"column\": \"Precio\",\n      \"properties\": {\n        \"dtype\": \"number\",\n        \"std\": 614686.7653873172,\n        \"min\": 7600.0,\n        \"max\": 2977000.0,\n        \"num_unique_values\": 1937,\n        \"samples\": [\n          2499400.0,\n          14800.0,\n          80500.0\n        ],\n        \"semantic_type\": \"\",\n        \"description\": \"\"\n      }\n    },\n    {\n      \"column\": \"Costo de env\\u00edo\",\n      \"properties\": {\n        \"dtype\": \"number\",\n        \"std\": 32860.0017825605,\n        \"min\": 0.0,\n        \"max\": 160800.0,\n        \"num_unique_values\": 753,\n        \"samples\": [\n          117800.0,\n          54700.0,\n          45600.0\n        ],\n        \"semantic_type\": \"\",\n        \"description\": \"\"\n      }\n    },\n    {\n      \"column\": \"Fecha de Compra\",\n      \"properties\": {\n        \"dtype\": \"object\",\n        \"num_unique_values\": 1018,\n        \"samples\": [\n          \"15/09/2022\",\n          \"03/06/2020\",\n          \"06/11/2021\"\n        ],\n        \"semantic_type\": \"\",\n        \"description\": \"\"\n      }\n    },\n    {\n      \"column\": \"Vendedor\",\n      \"properties\": {\n        \"dtype\": \"category\",\n        \"num_unique_values\": 14,\n        \"samples\": [\n          \"Juliana Costa\",\n          \"Mariana Herrera\",\n          \"Pedro Gomez\"\n        ],\n        \"semantic_type\": \"\",\n        \"description\": \"\"\n      }\n    },\n    {\n      \"column\": \"Lugar de Compra\",\n      \"properties\": {\n        \"dtype\": \"category\",\n        \"num_unique_values\": 19,\n        \"samples\": [\n          \"Bogot\\u00e1\",\n          \"Pereira\",\n          \"Neiva\"\n        ],\n        \"semantic_type\": \"\",\n        \"description\": \"\"\n      }\n    },\n    {\n      \"column\": \"Calificaci\\u00f3n\",\n      \"properties\": {\n        \"dtype\": \"number\",\n        \"std\": 1,\n        \"min\": 1,\n        \"max\": 5,\n        \"num_unique_values\": 5,\n        \"samples\": [\n          1,\n          2,\n          5\n        ],\n        \"semantic_type\": \"\",\n        \"description\": \"\"\n      }\n    },\n    {\n      \"column\": \"M\\u00e9todo de pago\",\n      \"properties\": {\n        \"dtype\": \"category\",\n        \"num_unique_values\": 4,\n        \"samples\": [\n          \"Nequi\",\n          \"Tarjeta de d\\u00e9bito\",\n          \"Tarjeta de cr\\u00e9dito\"\n        ],\n        \"semantic_type\": \"\",\n        \"description\": \"\"\n      }\n    },\n    {\n      \"column\": \"Cantidad de cuotas\",\n      \"properties\": {\n        \"dtype\": \"number\",\n        \"std\": 2,\n        \"min\": 1,\n        \"max\": 24,\n        \"num_unique_values\": 15,\n        \"samples\": [\n          7,\n          14,\n          8\n        ],\n        \"semantic_type\": \"\",\n        \"description\": \"\"\n      }\n    },\n    {\n      \"column\": \"lat\",\n      \"properties\": {\n        \"dtype\": \"number\",\n        \"std\": 2.2874452492678627,\n        \"min\": -4.21528,\n        \"max\": 11.54444,\n        \"num_unique_values\": 19,\n        \"samples\": [\n          4.60971,\n          4.81333,\n          2.9273\n        ],\n        \"semantic_type\": \"\",\n        \"description\": \"\"\n      }\n    },\n    {\n      \"column\": \"lon\",\n      \"properties\": {\n        \"dtype\": \"number\",\n        \"std\": 1.2178272727088486,\n        \"min\": -77.28111,\n        \"max\": -67.9239,\n        \"num_unique_values\": 19,\n        \"samples\": [\n          -74.08175,\n          -75.69611,\n          -75.28189\n        ],\n        \"semantic_type\": \"\",\n        \"description\": \"\"\n      }\n    }\n  ]\n}"
            }
          },
          "metadata": {},
          "execution_count": 72
        }
      ],
      "source": [
        "import pandas as pd\n",
        "\n",
        "url = \"https://raw.githubusercontent.com/alura-es-cursos/challenge1-data-science-latam/refs/heads/main/base-de-datos-challenge1-latam/tienda_1%20.csv\"\n",
        "url2 = \"https://raw.githubusercontent.com/alura-es-cursos/challenge1-data-science-latam/refs/heads/main/base-de-datos-challenge1-latam/tienda_2.csv\"\n",
        "url3 = \"https://raw.githubusercontent.com/alura-es-cursos/challenge1-data-science-latam/refs/heads/main/base-de-datos-challenge1-latam/tienda_3.csv\"\n",
        "url4 = \"https://raw.githubusercontent.com/alura-es-cursos/challenge1-data-science-latam/refs/heads/main/base-de-datos-challenge1-latam/tienda_4.csv\"\n",
        "\n",
        "tienda = pd.read_csv(url)\n",
        "tienda2 = pd.read_csv(url2)\n",
        "tienda3 = pd.read_csv(url3)\n",
        "tienda4 = pd.read_csv(url4)\n",
        "\n",
        "tienda.head()"
      ]
    },
    {
      "cell_type": "markdown",
      "source": [
        "#1. Análisis de facturación\n",
        "\n"
      ],
      "metadata": {
        "id": "X62IW3KFUIYm"
      }
    },
    {
      "cell_type": "code",
      "source": [
        "#Ingreso total por cada tienda\n",
        "total_tienda1 = sum(tienda[\"Precio\"])\n",
        "total_tienda2 = sum(tienda2[\"Precio\"])\n",
        "total_tienda3 = sum(tienda3[\"Precio\"])\n",
        "total_tienda4 = sum(tienda4[\"Precio\"])\n",
        "#Total de ventas por tienda\n",
        "print(\"Total de ventas tienda 1: \", total_tienda1)\n",
        "print(\"Total de ventas tienda 2: \", total_tienda2)\n",
        "print(\"Total de ventas tienda 3: \", total_tienda3)\n",
        "print(\"Total de ventas tienda 4: \", total_tienda4)\n"
      ],
      "metadata": {
        "id": "xykobSftV64I",
        "colab": {
          "base_uri": "https://localhost:8080/"
        },
        "outputId": "61ec9bfb-ce64-4bff-996f-4ab70b3c6d48"
      },
      "execution_count": null,
      "outputs": [
        {
          "output_type": "stream",
          "name": "stdout",
          "text": [
            "Total de ventas tienda 1:  1150880400.0\n",
            "Total de ventas tienda 2:  1116343500.0\n",
            "Total de ventas tienda 3:  1098019600.0\n",
            "Total de ventas tienda 4:  1038375700.0\n"
          ]
        }
      ]
    },
    {
      "cell_type": "markdown",
      "source": [
        "# 2. Ventas por categoría"
      ],
      "metadata": {
        "id": "2V_vcAPzWZmR"
      }
    },
    {
      "cell_type": "code",
      "source": [
        "\"\"\"\n",
        "En este debes calcular la cantidad de productos vendidos por categoría en cada tienda.\n",
        "La idea es agrupar los datos por categoría y contar el número de ventas de cada tipo, mostrando las categorías más populares de cada tienda.\n",
        "\"\"\"\n",
        "# Contar productos por categoría y ordenarlos de mayor a menor\n",
        "categoria = tienda.groupby(\"Categoría del Producto\").size().sort_values(ascending=False)\n",
        "categoria2 = tienda2.groupby(\"Categoría del Producto\").size().sort_values(ascending=False)\n",
        "categoria3 = tienda3.groupby(\"Categoría del Producto\").size().sort_values(ascending=False)\n",
        "categoria4 = tienda4.groupby(\"Categoría del Producto\").size().sort_values(ascending=False)\n",
        "\n",
        "print(\"Tienda 1:\")\n",
        "print(categoria.head(8))\n",
        "\n",
        "print(\"\\nTienda 2:\")\n",
        "print(categoria2.head(8))\n",
        "\n",
        "print(\"\\nTienda 3:\")\n",
        "print(categoria3.head(8))\n",
        "\n",
        "print(\"\\nTienda 4:\")\n",
        "print(categoria4.head(8))"
      ],
      "metadata": {
        "id": "A34YupIuYhfF",
        "colab": {
          "base_uri": "https://localhost:8080/"
        },
        "outputId": "628ce079-b545-4be4-bfcf-c4a7e51c87db"
      },
      "execution_count": null,
      "outputs": [
        {
          "output_type": "stream",
          "name": "stdout",
          "text": [
            "Tienda 1:\n",
            "Categoría del Producto\n",
            "Muebles                    465\n",
            "Electrónicos               448\n",
            "Juguetes                   324\n",
            "Electrodomésticos          312\n",
            "Deportes y diversión       284\n",
            "Instrumentos musicales     182\n",
            "Libros                     173\n",
            "Artículos para el hogar    171\n",
            "dtype: int64\n",
            "\n",
            "Tienda 2:\n",
            "Categoría del Producto\n",
            "Muebles                    442\n",
            "Electrónicos               422\n",
            "Juguetes                   313\n",
            "Electrodomésticos          305\n",
            "Deportes y diversión       275\n",
            "Instrumentos musicales     224\n",
            "Libros                     197\n",
            "Artículos para el hogar    181\n",
            "dtype: int64\n",
            "\n",
            "Tienda 3:\n",
            "Categoría del Producto\n",
            "Muebles                    499\n",
            "Electrónicos               451\n",
            "Juguetes                   315\n",
            "Electrodomésticos          278\n",
            "Deportes y diversión       277\n",
            "Libros                     185\n",
            "Artículos para el hogar    177\n",
            "Instrumentos musicales     177\n",
            "dtype: int64\n",
            "\n",
            "Tienda 4:\n",
            "Categoría del Producto\n",
            "Muebles                    480\n",
            "Electrónicos               451\n",
            "Juguetes                   338\n",
            "Deportes y diversión       277\n",
            "Electrodomésticos          254\n",
            "Artículos para el hogar    201\n",
            "Libros                     187\n",
            "Instrumentos musicales     170\n",
            "dtype: int64\n"
          ]
        }
      ]
    },
    {
      "cell_type": "markdown",
      "source": [
        "# 3. Calificación promedio de la tienda\n"
      ],
      "metadata": {
        "id": "Rq6tU_xSY3jk"
      }
    },
    {
      "cell_type": "code",
      "source": [
        "\"\"\"En este paso, debes calcular las calificaciones promedio de los clientes\n",
        "para cada tienda. El objetivo es conocer la satisfacción del cliente con los productos vendidos.\"\"\"\n",
        "promedio_tienda1 = sum(tienda[\"Calificación\"]) / len(tienda[\"Calificación\"])\n",
        "promedio_tienda2 = sum(tienda2[\"Calificación\"]) / len(tienda2[\"Calificación\"])\n",
        "promedio_tienda3 = sum(tienda3[\"Calificación\"]) / len(tienda3[\"Calificación\"])\n",
        "promedio_tienda4 = sum(tienda4[\"Calificación\"]) / len(tienda4[\"Calificación\"])\n",
        "print(\"Calificación promedio tienda 1: \", promedio_tienda1)\n",
        "print(\"Calificación promedio tienda 2: \", promedio_tienda2)\n",
        "print(\"Calificación promedio tienda 3: \", promedio_tienda3)\n",
        "print(\"Calificación promedio tienda 4: \", promedio_tienda4)"
      ],
      "metadata": {
        "id": "bh3jjjJwY5MU",
        "colab": {
          "base_uri": "https://localhost:8080/"
        },
        "outputId": "7c360d98-a58f-48fe-be01-a646ad76b56d"
      },
      "execution_count": null,
      "outputs": [
        {
          "output_type": "stream",
          "name": "stdout",
          "text": [
            "Calificación promedio tienda 1:  3.976685036032217\n",
            "Calificación promedio tienda 2:  4.037303942348453\n",
            "Calificación promedio tienda 3:  4.048325561678677\n",
            "Calificación promedio tienda 4:  3.9957591178965224\n"
          ]
        }
      ]
    },
    {
      "cell_type": "markdown",
      "source": [
        "# 4. Productos más y menos vendidos"
      ],
      "metadata": {
        "id": "DmNp1KPBZCm-"
      }
    },
    {
      "cell_type": "code",
      "source": [
        "\"\"\"\n",
        "En este paso, debes identificar qué productos fueron los más vendidos y los menos vendidos en cada tienda. Visualiza\n",
        "los resultados para que quede claro qué productos destacaron en ventas en cada tienda.\n",
        "\"\"\"\n",
        "vendidos_tienda1 = tienda.groupby(\"Producto\").size().sort_values(ascending=False)\n",
        "vendidos_tienda2 = tienda2.groupby(\"Producto\").size().sort_values(ascending=False)\n",
        "vendidos_tienda3 = tienda3.groupby(\"Producto\").size().sort_values(ascending=False)\n",
        "vendidos_tienda4 = tienda4.groupby(\"Producto\").size().sort_values(ascending=False)\n",
        "print(f\"Productos más vendidos tienda 1:\\n{vendidos_tienda1.head(3)}\\n\\nProductos menos vendidos:\\n{vendidos_tienda1.tail(3)}\\n\")\n",
        "print(f\"Productos más vendidos tienda 2:\\n{vendidos_tienda2.head(3)}\\n\\nProductos menos vendidos:\\n{vendidos_tienda2.tail(3)}\\n\")\n",
        "print(f\"Productos más vendidos tienda 3:\\n{vendidos_tienda3.head(3)}\\n\\nProductos menos vendidos:\\n{vendidos_tienda3.tail(3)}\\n\")\n",
        "print(f\"Productos más vendidos tienda 4:\\n{vendidos_tienda4.head(3)}\\n\\nProductos menos vendidos:\\n{vendidos_tienda4.tail(3)}\\n\")"
      ],
      "metadata": {
        "id": "qoyjqijQZHfF",
        "colab": {
          "base_uri": "https://localhost:8080/"
        },
        "outputId": "4e0ea58e-4460-4bb6-83bd-681e72f792b2"
      },
      "execution_count": null,
      "outputs": [
        {
          "output_type": "stream",
          "name": "stdout",
          "text": [
            "Productos más vendidos tienda 1:\n",
            "Producto\n",
            "Armario          60\n",
            "TV LED UHD 4K    60\n",
            "Microondas       60\n",
            "dtype: int64\n",
            "\n",
            "Productos menos vendidos:\n",
            "Producto\n",
            "Olla de presión              35\n",
            "Celular ABXY                 33\n",
            "Auriculares con micrófono    33\n",
            "dtype: int64\n",
            "\n",
            "Productos más vendidos tienda 2:\n",
            "Producto\n",
            "Iniciando en programación    65\n",
            "Microondas                   62\n",
            "Batería                      61\n",
            "dtype: int64\n",
            "\n",
            "Productos menos vendidos:\n",
            "Producto\n",
            "Impresora          34\n",
            "Mesa de comedor    34\n",
            "Juego de mesa      32\n",
            "dtype: int64\n",
            "\n",
            "Productos más vendidos tienda 3:\n",
            "Producto\n",
            "Kit de bancas      57\n",
            "Mesa de comedor    56\n",
            "Cama king          56\n",
            "dtype: int64\n",
            "\n",
            "Productos menos vendidos:\n",
            "Producto\n",
            "Microondas                 36\n",
            "Set de vasos               36\n",
            "Bloques de construcción    35\n",
            "dtype: int64\n",
            "\n",
            "Productos más vendidos tienda 4:\n",
            "Producto\n",
            "Cama box      62\n",
            "Cubertería    59\n",
            "Cama king     56\n",
            "dtype: int64\n",
            "\n",
            "Productos menos vendidos:\n",
            "Producto\n",
            "Guitarra acústica     37\n",
            "Armario               34\n",
            "Guitarra eléctrica    33\n",
            "dtype: int64\n",
            "\n"
          ]
        }
      ]
    },
    {
      "cell_type": "markdown",
      "source": [
        "# 5. Envío promedio por tienda"
      ],
      "metadata": {
        "id": "Fl0cGi3bZKqU"
      }
    },
    {
      "cell_type": "code",
      "source": [
        "\"\"\"\n",
        "En este paso, debes calcular el costo de envío promedio para cada tienda. El objetivo es comprender cuánto se gasta, en promedio, en el envío de cada tienda.\n",
        "\"\"\"\n",
        "promedio_envio_tienda1 = sum(tienda[\"Costo de envío\"]) / len(tienda[\"Costo de envío\"])\n",
        "promedio_envio_tienda2 = sum(tienda2[\"Costo de envío\"]) / len(tienda2[\"Costo de envío\"])\n",
        "promedio_envio_tienda3 = sum(tienda3[\"Costo de envío\"]) / len(tienda3[\"Costo de envío\"])\n",
        "promedio_envio_tienda4 = sum(tienda4[\"Costo de envío\"]) / len(tienda4[\"Costo de envío\"])\n",
        "print(\"Costo de envío promedio tienda 1: \", promedio_envio_tienda1)\n",
        "print(\"Costo de envío promedio tienda 2: \", promedio_envio_tienda2)\n",
        "print(\"Costo de envío promedio tienda 3: \", promedio_envio_tienda3)\n",
        "print(\"Costo de envío promedio tienda 4: \", promedio_envio_tienda4)"
      ],
      "metadata": {
        "id": "S2JeaCykZNy9",
        "colab": {
          "base_uri": "https://localhost:8080/"
        },
        "outputId": "392a67ff-d9f8-4f04-b276-a49eae3b2d0c"
      },
      "execution_count": null,
      "outputs": [
        {
          "output_type": "stream",
          "name": "stdout",
          "text": [
            "Costo de envío promedio tienda 1:  26018.60958033065\n",
            "Costo de envío promedio tienda 2:  25216.235693090293\n",
            "Costo de envío promedio tienda 3:  24805.680373039424\n",
            "Costo de envío promedio tienda 4:  23459.457167090754\n"
          ]
        }
      ]
    },
    {
      "cell_type": "code",
      "source": [
        "\"\"\"\n",
        "Después de realizar los análisis, es hora de transformar sus resultados en visualizaciones que le ayuden a comprender mejor los patrones y los insights encontrados.\n",
        "\n",
        "De acuerdo con funciones que haya creado, le recomendamos que genere al menos tres gráficos. Estos gráficos deben ser de diferentes tipos (como barras, líneas, dispersión,\n",
        "entre otros) para presentar una visión completa de los datos.\n",
        "\n",
        "Recuerde que los gráficos deben complementar el análisis realizado, resaltando los puntos más relevantes, como los ingresos de la tienda, la distribución de categorías de\n",
        "productos, las opiniones de los clientes, los productos más vendidos y/o los costes de envío.\n",
        "\n",
        "No es necesario mostrar una visualización en cada paso, pero al final del análisis debes generar los gráficos que consideres más útiles para interpretar los datos.\n",
        "\n",
        "Consejo: Matplotlib ofrece una variedad de tipos de gráficos que son fáciles de implementar, lo que lo convierte en una excelente opción para principiantes. Utilice\n",
        "su creatividad para elegir los gráficos que mejor resalten las tendencias y los conocimientos de su análisis.\n",
        "\"\"\"\n",
        "from matplotlib import pyplot as plt\n",
        "tiendas = [\"Tienda 1\", \"Tienda 2\", \"Tienda 3\", \"Tienda 4\"]\n",
        "\n",
        "#Graficos: Ingresos de las tiendas\n",
        "ingresos = [total_tienda1, total_tienda2, total_tienda3, total_tienda4]\n",
        "plt.bar(tiendas, ingresos)\n",
        "\n"
      ],
      "metadata": {
        "id": "0tSdCie9ZQlt",
        "colab": {
          "base_uri": "https://localhost:8080/",
          "height": 462
        },
        "outputId": "37e674b7-da4b-4a5d-fa65-f3d4a0bc4400"
      },
      "execution_count": null,
      "outputs": [
        {
          "output_type": "execute_result",
          "data": {
            "text/plain": [
              "<BarContainer object of 4 artists>"
            ]
          },
          "metadata": {},
          "execution_count": 93
        },
        {
          "output_type": "display_data",
          "data": {
            "text/plain": [
              "<Figure size 640x480 with 1 Axes>"
            ],
            "image/png": "[encoded data removed]"
          },
          "metadata": {}
        }
      ]
    },
    {
      "cell_type": "code",
      "source": [
        "#Graficos: Opiniones de los clientes\n",
        "calificaciones_total = [promedio_tienda1, promedio_tienda2, promedio_tienda3, promedio_tienda4]\n",
        "plt.pie(calificaciones_total, labels=tiendas, autopct='%1.1f%%', startangle=90)\n",
        "plt.title(\"Calificaciones de los clientes por tienda\")\n",
        "plt.axis('equal')\n",
        "plt.show()"
      ],
      "metadata": {
        "colab": {
          "base_uri": "https://localhost:8080/",
          "height": 428
        },
        "id": "Far-_4dHo1bT",
        "outputId": "f7b394ce-ebdd-44c9-83e3-b9db722a2e9a"
      },
      "execution_count": null,
      "outputs": [
        {
          "output_type": "display_data",
          "data": {
            "text/plain": [
              "<Figure size 640x480 with 1 Axes>"
            ],
            "image/png": "[encoded data removed]"
          },
          "metadata": {}
        }
      ]
    },
    {
      "cell_type": "code",
      "source": [
        "#Graficos: Costes de envios\n",
        "promedio_envio_total_tienda = [promedio_envio_tienda1, promedio_envio_tienda2, promedio_envio_tienda3, promedio_envio_tienda4]\n",
        "plt.fill_between(tiendas, promedio_envio_total_tienda, color='purple', alpha=0.5)\n",
        "plt.plot(tiendas, promedio_envio_total_tienda, color='red', marker='o')\n",
        "plt.title(\"Promedio total de envio por tiendas\")\n",
        "plt.xlabel(\"Tienda\")\n",
        "plt.ylabel(\"Promedio\")\n",
        "plt.grid(axis='y')\n",
        "plt.show()\n",
        "\n",
        "\n"
      ],
      "metadata": {
        "colab": {
          "base_uri": "https://localhost:8080/",
          "height": 472
        },
        "id": "vMlrLmhOpJvL",
        "outputId": "e3d3d248-fa1f-4962-a23e-8325e0c20859"
      },
      "execution_count": null,
      "outputs": [
        {
          "output_type": "display_data",
          "data": {
            "text/plain": [
              "<Figure size 640x480 with 1 Axes>"
            ],
            "image/png": "[encoded data removed]"
          },
          "metadata": {}
        }
      ]
    },
    {
      "cell_type": "markdown",
      "source": [
        "# Análisis de Datos - Proyecto Alura Store\n",
        "\n",
        "## Introducción\n",
        "\n",
        "El análisis de información documental representa un desafío significativo, sin embargo, herramientas como Python facilitan este proceso gracias a su sintaxis clara, amplias librerías y una comunidad activa. Este lenguaje es ideal para el análisis de bases de datos, documentos y archivos Excel con grandes volúmenes de información.\n",
        "\n",
        "**Objetivo del análisis**:  \n",
        "El Sr. Juan, propietario de la cadena Alura Store, desea vender una de sus cuatro tiendas para iniciar un nuevo emprendimiento. Mediante el análisis de datos de ventas, rendimiento y reseñas, se identificará la tienda menos eficiente para fundamentar una recomendación objetiva.\n",
        "\n",
        "---\n",
        "\n",
        "## Resultados del Análisis\n",
        "\n",
        "### 1. Ingresos Totales por Tienda\n",
        "Los ingresos totales, calculados mediante la suma de los precios de venta, son los siguientes:\n",
        "\n",
        "- **Tienda 1**: $1,150,880,400.00  \n",
        "- **Tienda 2**: $1,116,343,500.00  \n",
        "- **Tienda 3**: $1,098,019,600.00  \n",
        "- **Tienda 4**: $1,038,375,700.00  \n",
        "\n",
        "**Conclusión**:  \n",
        "La tienda con mayor facturación es la **Tienda 1**, mientras que la **Tienda 4** registra los ingresos más bajos.\n",
        "\n",
        "---\n",
        "\n",
        "### 2. Categorías de Productos Más y Menos Vendidas\n",
        "**Categoría más vendida en todas las tiendas**: Muebles.  \n",
        "**Categoría menos vendida**: Instrumentos musicales (Tienda 4) y Artículos para el hogar (Tiendas 1 y 2).\n",
        "\n",
        "| Tienda | Categoría Más Vendida (Unidades) | Categoría Menos Vendida (Unidades) |\n",
        "|--------|----------------------------------|------------------------------------|\n",
        "| 1      | Muebles (465)                    | Artículos para el hogar (171)      |\n",
        "| 2      | Muebles (442)                    | Artículos para el hogar (181)      |\n",
        "| 3      | Muebles (499)                    | Instrumentos musicales (177)       |\n",
        "| 4      | Muebles (480)                    | Instrumentos musicales (170)       |\n",
        "\n",
        "**Destacado**:  \n",
        "La **Tienda 3** lidera en ventas de muebles, mientras que la **Tienda 2** tiene el menor desempeño en esta categoría.\n",
        "\n",
        "---\n",
        "\n",
        "### 3. Calificaciones Promedio de Clientes\n",
        "Las valoraciones promedio por tienda son:\n",
        "\n",
        "- **Tienda 1**: 3.97  \n",
        "- **Tienda 2**: 4.03  \n",
        "- **Tienda 3**: 4.04  \n",
        "- **Tienda 4**: 3.99  \n",
        "\n",
        "**Conclusión**:  \n",
        "La **Tienda 3** es la mejor valorada, mientras que la **Tienda 1** tiene la calificación más baja.\n",
        "\n",
        "---\n",
        "\n",
        "### 4. Productos Más y Menos Vendidos por Tienda\n",
        "**Productos destacados**:\n",
        "\n",
        "| Tienda | Más Vendidos (Unidades)                     | Menos Vendidos (Unidades)               |\n",
        "|--------|---------------------------------------------|------------------------------------------|\n",
        "| 1      | Armario, TV LED UHD 4K, Microondas (60)     | Olla de presión (35), Celular ABXY (33)  |\n",
        "| 2      | *Iniciando en programación* (65), Microondas (62) | Juego de mesa (32), Impresora (34)       |\n",
        "| 3      | Kit de bancas (57), Mesa de comedor (56)    | Microondas (36), Set de vasos (36)       |\n",
        "| 4      | Cama box (62), Cubertería (59)              | Guitarra acústica (37), Armario (34)     |\n",
        "\n",
        "**Datos relevantes**:  \n",
        "- El producto **más vendido** en general es *\"Iniciando en programación\"* (Tienda 2).  \n",
        "- El producto **menos vendido** es *\"Juego de mesa\"* (Tienda 2).  \n",
        "\n",
        "---\n",
        "\n",
        "### 5. Coste Promedio de Envío por Tienda\n",
        "Los costos promedio son:\n",
        "\n",
        "- **Tienda 1**: $26,018.60  \n",
        "- **Tienda 2**: $25,216.23  \n",
        "- **Tienda 3**: $24,805.68  \n",
        "- **Tienda 4**: $23,459.45  \n",
        "\n",
        "**Conclusión**:  \n",
        "La **Tienda 1** tiene el costo de envío más alto, mientras que la **Tienda 4** ofrece el más económico.\n",
        "\n",
        "---\n",
        "\n",
        "## Conclusiones Finales\n",
        "\n",
        "- **Facturación**: La **Tienda 1** lidera en ingresos, pero tiene la peor valoración de clientes y el costo de envío más alto.  \n",
        "- **Desempeño por categoría**: La **Tienda 3** destaca en ventas de muebles y tiene la mejor calificación.  \n",
        "- **Productos**: La **Tienda 2** tiene tanto el producto más vendido (*\"Iniciando en programación\"*) como el menos vendido (*\"Juego de mesa\"*).  \n",
        "\n",
        "**Recomendación**:  \n",
        "Vender la **Tienda 4**, ya que:  \n",
        "1. Es la que menos factura.  \n",
        "2. No destaca en categorías o productos clave.  \n",
        "3. Tiene la categoría menos vendida (instrumentos musicales).  \n",
        "4. Su costo de envío es el más bajo, pero esto no compensa su bajo rendimiento global.  \n",
        "\n",
        "Esta decisión permitiría al Sr. Juan enfocar recursos en su nuevo emprendimiento, minimizando el impacto en la cadena Alura Store."
      ],
      "metadata": {
        "id": "ObXBiHtb2fet"
      }
    }
  ]
}